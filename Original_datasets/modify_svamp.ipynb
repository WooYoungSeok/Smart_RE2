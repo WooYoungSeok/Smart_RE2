{
 "cells": [
  {
   "cell_type": "code",
   "execution_count": 1,
   "metadata": {},
   "outputs": [],
   "source": [
    "import pandas as pd\n",
    "\n",
    "# parquet 파일 경로 지정\n",
    "file_path = 'svamp.parquet'\n",
    "\n",
    "# pyarrow(또는 fastparquet) 기반으로 parquet 파일 읽기\n",
    "df = pd.read_parquet(file_path)"
   ]
  },
  {
   "cell_type": "code",
   "execution_count": 4,
   "metadata": {},
   "outputs": [
    {
     "data": {
      "text/plain": [
       "(300, 13)"
      ]
     },
     "execution_count": 4,
     "metadata": {},
     "output_type": "execute_result"
    }
   ],
   "source": [
    "df.shape"
   ]
  },
  {
   "cell_type": "code",
   "execution_count": 3,
   "metadata": {},
   "outputs": [
    {
     "data": {
      "text/plain": [
       "'Solve the following math word problem.\\n\\nWinter is almost here and most animals are migrating to warmer countries. There are 41 bird families living near the mountain. If 35 bird families flew away to asia and 62 bird families flew away to africa\\nHow many more bird families flew away to africa than those that flew away to asia?\\n\\nThink step-by-step. Then, provide the final answer as a single integer in the format \"Answer: XXX\" with no extra formatting.'"
      ]
     },
     "execution_count": 3,
     "metadata": {},
     "output_type": "execute_result"
    }
   ],
   "source": [
    "df['platinum_prompt'][0]"
   ]
  },
  {
   "cell_type": "code",
   "execution_count": 5,
   "metadata": {},
   "outputs": [],
   "source": [
    "import pandas as pd\n",
    "import re\n",
    "\n",
    "# 1. Read the question again: ...\n",
    "def repeat_question(match):\n",
    "    # match.group(1): 첫 번째 줄바꿈 (예: \"\\n\\n\" 또는 \"\\n   \\n\")\n",
    "    # match.group(2): 질문 텍스트\n",
    "    # match.group(3): 두 번째 줄바꿈 (예: \"\\n\\n\")\n",
    "    # 원하는 결과: 첫 번째 줄바꿈 뒤 기존 질문 대신 \"Read the question again:\" + 질문 텍스트를 두 번 반복하고,\n",
    "    # 두 번째 줄바꿈을 그대로 붙인다.\n",
    "    return f\"{match.group(1)}{match.group(2)}\\n\\nRead the question again: {match.group(2)}{match.group(3)}\"\n",
    "\n",
    "# \\n\\n 사이에 공백이 있을 수도 있으므로 \\n\\s*\\n 형태로 패턴을 수정\n",
    "df['RE2'] = df['platinum_prompt'].str.replace(\n",
    "    r'(\\n\\s*\\n)(.*?)(\\n\\s*\\n)(?=Think step-by-step)',\n",
    "    repeat_question,\n",
    "    flags=re.DOTALL,\n",
    "    regex=True\n",
    ")\n",
    "\n",
    "# 2. Summarize the question first.\n",
    "df['sum'] = df['platinum_prompt'].str.replace(\n",
    "    r'(?=Think step-by-step)',\n",
    "    \"Summarize the question first. \",\n",
    "    regex=True\n",
    ")\n",
    "\n",
    "# 3. Organize the question into a table first.\n",
    "df['table'] = df['platinum_prompt'].str.replace(\n",
    "    r'(?=Think step-by-step)',\n",
    "    \"Organize the question into a table first. \",\n",
    "    regex=True\n",
    ")\n",
    "\n",
    "# 4. Organize the question into a graph structure first.\n",
    "df['graph'] = df['platinum_prompt'].str.replace(\n",
    "    r'(?=Think step-by-step)',\n",
    "    \"Organize the question into a graph structure first. \",\n",
    "    regex=True\n",
    ")\n",
    "\n",
    "# 5. Summarize the question in bullet points first.\n",
    "df['bullet_point'] = df['platinum_prompt'].str.replace(\n",
    "    r'(?=Think step-by-step)',\n",
    "    \"Summarize the question in bullet points first. \",\n",
    "    regex=True\n",
    ")\n",
    "\n",
    "# 6. Read the question again first.\n",
    "df['sRE2'] = df['platinum_prompt'].str.replace(\n",
    "    r'(?=Think step-by-step)',\n",
    "    \"Read the question again first. \",\n",
    "    regex=True\n",
    ")"
   ]
  },
  {
   "cell_type": "code",
   "execution_count": 7,
   "metadata": {},
   "outputs": [
    {
     "data": {
      "text/plain": [
       "'Solve the following math word problem.\\n\\nWinter is almost here and most animals are migrating to warmer countries. There are 41 bird families living near the mountain. If 35 bird families flew away to asia and 62 bird families flew away to africa\\nHow many more bird families flew away to africa than those that flew away to asia?\\n\\nRead the question again: Winter is almost here and most animals are migrating to warmer countries. There are 41 bird families living near the mountain. If 35 bird families flew away to asia and 62 bird families flew away to africa\\nHow many more bird families flew away to africa than those that flew away to asia?\\n\\nThink step-by-step. Then, provide the final answer as a single integer in the format \"Answer: XXX\" with no extra formatting.'"
      ]
     },
     "execution_count": 7,
     "metadata": {},
     "output_type": "execute_result"
    }
   ],
   "source": [
    "df['RE2'][0]"
   ]
  },
  {
   "cell_type": "code",
   "execution_count": 8,
   "metadata": {},
   "outputs": [
    {
     "data": {
      "text/plain": [
       "'Solve the following math word problem.\\n\\nWinter is almost here and most animals are migrating to warmer countries. There are 41 bird families living near the mountain. If 35 bird families flew away to asia and 62 bird families flew away to africa\\nHow many more bird families flew away to africa than those that flew away to asia?\\n\\nThen, provide the final answer as a single integer in the format \"Answer: XXX\" with no extra formatting.'"
      ]
     },
     "execution_count": 8,
     "metadata": {},
     "output_type": "execute_result"
    }
   ],
   "source": [
    "df['platinum_prompt_no_cot'][0]"
   ]
  },
  {
   "cell_type": "code",
   "execution_count": 9,
   "metadata": {},
   "outputs": [],
   "source": [
    "import pandas as pd\n",
    "import re\n",
    "\n",
    "def repeat_question(match):\n",
    "    # match.group(1): 첫 번째 줄바꿈 (예: \"\\n\\n\" 또는 \"\\n   \\n\")\n",
    "    # match.group(2): 질문 텍스트\n",
    "    # match.group(3): 두 번째 줄바꿈 (예: \"\\n\\n\")\n",
    "    # 원하는 결과: 첫 번째 줄바꿈 뒤 기존 질문 대신 \"Read the question again:\" + 질문 텍스트를 두 번 반복하고,\n",
    "    # 두 번째 줄바꿈을 그대로 붙인다.\n",
    "    return f\"{match.group(1)}{match.group(2)}\\n\\nRead the question again: {match.group(2)}{match.group(3)}\"\n",
    "\n",
    "# \\n\\n 사이에 공백이 있을 수도 있으므로 \\n\\s*\\n 형태로 패턴을 수정\n",
    "df['RE2_no_cot'] = df['platinum_prompt_no_cot'].str.replace(\n",
    "    r'(\\n\\s*\\n)(.*?)(\\n\\s*\\n)(?=Then, provide the final answer as a single integer)',\n",
    "    repeat_question,\n",
    "    flags=re.DOTALL,\n",
    "    regex=True\n",
    ")\n",
    "\n",
    "df['sum_no_cot'] = df['platinum_prompt_no_cot'].str.replace(\n",
    "    r'(?=Then, provide the final answer as a single integer)',\n",
    "    \"Summarize the question first. \",\n",
    "    regex=True\n",
    ")\n",
    "\n",
    "df['table_no_cot'] = df['platinum_prompt_no_cot'].str.replace(\n",
    "    r'(?=Then, provide the final answer as a single integer)',\n",
    "    \"Organize the question into a table first. \",\n",
    "    regex=True\n",
    ")\n",
    "\n",
    "df['graph_no_cot'] = df['platinum_prompt_no_cot'].str.replace(\n",
    "    r'(?=Then, provide the final answer as a single integer)',\n",
    "    \"Organize the question into a graph structure first. \",\n",
    "    regex=True\n",
    ")\n",
    "\n",
    "df['bullet_point_no_cot'] = df['platinum_prompt_no_cot'].str.replace(\n",
    "    r'(?=Then, provide the final answer as a single integer)',\n",
    "    \"Summarize the question in bullet points first. \",\n",
    "    regex=True\n",
    ")\n",
    "\n",
    "df['sRE2_no_cot'] = df['platinum_prompt_no_cot'].str.replace(\n",
    "    r'(?=Then, provide the final answer as a single integer)',\n",
    "    \"Read the question again first. \",\n",
    "    regex=True\n",
    ")"
   ]
  },
  {
   "cell_type": "code",
   "execution_count": 11,
   "metadata": {},
   "outputs": [
    {
     "data": {
      "text/plain": [
       "'Solve the following math word problem.\\n\\nWinter is almost here and most animals are migrating to warmer countries. There are 41 bird families living near the mountain. If 35 bird families flew away to asia and 62 bird families flew away to africa\\nHow many more bird families flew away to africa than those that flew away to asia?\\n\\nRead the question again first. Then, provide the final answer as a single integer in the format \"Answer: XXX\" with no extra formatting.'"
      ]
     },
     "execution_count": 11,
     "metadata": {},
     "output_type": "execute_result"
    }
   ],
   "source": [
    "df['sRE2_no_cot'][0]"
   ]
  },
  {
   "cell_type": "code",
   "execution_count": 12,
   "metadata": {},
   "outputs": [],
   "source": [
    "df.to_parquet('svamp_add_task.parquet')"
   ]
  },
  {
   "cell_type": "code",
   "execution_count": 13,
   "metadata": {},
   "outputs": [
    {
     "data": {
      "application/vnd.microsoft.datawrangler.viewer.v0+json": {
       "columns": [
        {
         "name": "index",
         "rawType": "int64",
         "type": "integer"
        },
        {
         "name": "cleaning_status",
         "rawType": "object",
         "type": "string"
        },
        {
         "name": "platinum_prompt",
         "rawType": "object",
         "type": "string"
        },
        {
         "name": "platinum_prompt_no_cot",
         "rawType": "object",
         "type": "string"
        },
        {
         "name": "platinum_target",
         "rawType": "object",
         "type": "unknown"
        },
        {
         "name": "original_target",
         "rawType": "object",
         "type": "unknown"
        },
        {
         "name": "platinum_parsing_strategy",
         "rawType": "object",
         "type": "string"
        },
        {
         "name": "ID",
         "rawType": "object",
         "type": "string"
        },
        {
         "name": "Body",
         "rawType": "object",
         "type": "string"
        },
        {
         "name": "Question",
         "rawType": "object",
         "type": "string"
        },
        {
         "name": "Equation",
         "rawType": "object",
         "type": "string"
        },
        {
         "name": "Answer",
         "rawType": "object",
         "type": "string"
        },
        {
         "name": "Type",
         "rawType": "object",
         "type": "string"
        },
        {
         "name": "question_concat",
         "rawType": "object",
         "type": "string"
        },
        {
         "name": "RE2",
         "rawType": "object",
         "type": "string"
        },
        {
         "name": "sum",
         "rawType": "object",
         "type": "string"
        },
        {
         "name": "table",
         "rawType": "object",
         "type": "string"
        },
        {
         "name": "graph",
         "rawType": "object",
         "type": "string"
        },
        {
         "name": "bullet_point",
         "rawType": "object",
         "type": "string"
        },
        {
         "name": "sRE2",
         "rawType": "object",
         "type": "string"
        },
        {
         "name": "RE2_no_cot",
         "rawType": "object",
         "type": "string"
        },
        {
         "name": "sum_no_cot",
         "rawType": "object",
         "type": "string"
        },
        {
         "name": "table_no_cot",
         "rawType": "object",
         "type": "string"
        },
        {
         "name": "graph_no_cot",
         "rawType": "object",
         "type": "string"
        },
        {
         "name": "bullet_point_no_cot",
         "rawType": "object",
         "type": "string"
        },
        {
         "name": "sRE2_no_cot",
         "rawType": "object",
         "type": "string"
        }
       ],
       "conversionMethod": "pd.DataFrame",
       "ref": "d775c8a8-43af-43ab-bd12-1bf6de99472a",
       "rows": [
        [
         "0",
         "consensus",
         "Solve the following math word problem.\n\nWinter is almost here and most animals are migrating to warmer countries. There are 41 bird families living near the mountain. If 35 bird families flew away to asia and 62 bird families flew away to africa\nHow many more bird families flew away to africa than those that flew away to asia?\n\nThink step-by-step. Then, provide the final answer as a single integer in the format \"Answer: XXX\" with no extra formatting.",
         "Solve the following math word problem.\n\nWinter is almost here and most animals are migrating to warmer countries. There are 41 bird families living near the mountain. If 35 bird families flew away to asia and 62 bird families flew away to africa\nHow many more bird families flew away to africa than those that flew away to asia?\n\nThen, provide the final answer as a single integer in the format \"Answer: XXX\" with no extra formatting.",
         "['27']",
         "['27']",
         "math",
         "chal-736",
         "Winter is almost here and most animals are migrating to warmer countries. There are 41 bird families living near the mountain. If 35 bird families flew away to asia and 62 bird families flew away to africa",
         "How many more bird families flew away to africa than those that flew away to asia?",
         "( 62.0 - 35.0 )",
         "27",
         "Subtraction",
         "Winter is almost here and most animals are migrating to warmer countries. There are 41 bird families living near the mountain. If 35 bird families flew away to asia and 62 bird families flew away to africa How many more bird families flew away to africa than those that flew away to asia?",
         "Solve the following math word problem.\n\nWinter is almost here and most animals are migrating to warmer countries. There are 41 bird families living near the mountain. If 35 bird families flew away to asia and 62 bird families flew away to africa\nHow many more bird families flew away to africa than those that flew away to asia?\n\nRead the question again: Winter is almost here and most animals are migrating to warmer countries. There are 41 bird families living near the mountain. If 35 bird families flew away to asia and 62 bird families flew away to africa\nHow many more bird families flew away to africa than those that flew away to asia?\n\nThink step-by-step. Then, provide the final answer as a single integer in the format \"Answer: XXX\" with no extra formatting.",
         "Solve the following math word problem.\n\nWinter is almost here and most animals are migrating to warmer countries. There are 41 bird families living near the mountain. If 35 bird families flew away to asia and 62 bird families flew away to africa\nHow many more bird families flew away to africa than those that flew away to asia?\n\nSummarize the question first. Think step-by-step. Then, provide the final answer as a single integer in the format \"Answer: XXX\" with no extra formatting.",
         "Solve the following math word problem.\n\nWinter is almost here and most animals are migrating to warmer countries. There are 41 bird families living near the mountain. If 35 bird families flew away to asia and 62 bird families flew away to africa\nHow many more bird families flew away to africa than those that flew away to asia?\n\nOrganize the question into a table first. Think step-by-step. Then, provide the final answer as a single integer in the format \"Answer: XXX\" with no extra formatting.",
         "Solve the following math word problem.\n\nWinter is almost here and most animals are migrating to warmer countries. There are 41 bird families living near the mountain. If 35 bird families flew away to asia and 62 bird families flew away to africa\nHow many more bird families flew away to africa than those that flew away to asia?\n\nOrganize the question into a graph structure first. Think step-by-step. Then, provide the final answer as a single integer in the format \"Answer: XXX\" with no extra formatting.",
         "Solve the following math word problem.\n\nWinter is almost here and most animals are migrating to warmer countries. There are 41 bird families living near the mountain. If 35 bird families flew away to asia and 62 bird families flew away to africa\nHow many more bird families flew away to africa than those that flew away to asia?\n\nSummarize the question in bullet points first. Think step-by-step. Then, provide the final answer as a single integer in the format \"Answer: XXX\" with no extra formatting.",
         "Solve the following math word problem.\n\nWinter is almost here and most animals are migrating to warmer countries. There are 41 bird families living near the mountain. If 35 bird families flew away to asia and 62 bird families flew away to africa\nHow many more bird families flew away to africa than those that flew away to asia?\n\nRead the question again first. Think step-by-step. Then, provide the final answer as a single integer in the format \"Answer: XXX\" with no extra formatting.",
         "Solve the following math word problem.\n\nWinter is almost here and most animals are migrating to warmer countries. There are 41 bird families living near the mountain. If 35 bird families flew away to asia and 62 bird families flew away to africa\nHow many more bird families flew away to africa than those that flew away to asia?\n\nRead the question again: Winter is almost here and most animals are migrating to warmer countries. There are 41 bird families living near the mountain. If 35 bird families flew away to asia and 62 bird families flew away to africa\nHow many more bird families flew away to africa than those that flew away to asia?\n\nThen, provide the final answer as a single integer in the format \"Answer: XXX\" with no extra formatting.",
         "Solve the following math word problem.\n\nWinter is almost here and most animals are migrating to warmer countries. There are 41 bird families living near the mountain. If 35 bird families flew away to asia and 62 bird families flew away to africa\nHow many more bird families flew away to africa than those that flew away to asia?\n\nSummarize the question first. Then, provide the final answer as a single integer in the format \"Answer: XXX\" with no extra formatting.",
         "Solve the following math word problem.\n\nWinter is almost here and most animals are migrating to warmer countries. There are 41 bird families living near the mountain. If 35 bird families flew away to asia and 62 bird families flew away to africa\nHow many more bird families flew away to africa than those that flew away to asia?\n\nOrganize the question into a table first. Then, provide the final answer as a single integer in the format \"Answer: XXX\" with no extra formatting.",
         "Solve the following math word problem.\n\nWinter is almost here and most animals are migrating to warmer countries. There are 41 bird families living near the mountain. If 35 bird families flew away to asia and 62 bird families flew away to africa\nHow many more bird families flew away to africa than those that flew away to asia?\n\nOrganize the question into a graph structure first. Then, provide the final answer as a single integer in the format \"Answer: XXX\" with no extra formatting.",
         "Solve the following math word problem.\n\nWinter is almost here and most animals are migrating to warmer countries. There are 41 bird families living near the mountain. If 35 bird families flew away to asia and 62 bird families flew away to africa\nHow many more bird families flew away to africa than those that flew away to asia?\n\nSummarize the question in bullet points first. Then, provide the final answer as a single integer in the format \"Answer: XXX\" with no extra formatting.",
         "Solve the following math word problem.\n\nWinter is almost here and most animals are migrating to warmer countries. There are 41 bird families living near the mountain. If 35 bird families flew away to asia and 62 bird families flew away to africa\nHow many more bird families flew away to africa than those that flew away to asia?\n\nRead the question again first. Then, provide the final answer as a single integer in the format \"Answer: XXX\" with no extra formatting."
        ],
        [
         "1",
         "consensus",
         "Solve the following math word problem.\n\nPaige raised 7 goldfish and 12 catfish in the pond but stray cats loved eating them. Now she has 15 left.\nHow many fishes disappeared?\n\nThink step-by-step. Then, provide the final answer as a single integer in the format \"Answer: XXX\" with no extra formatting.",
         "Solve the following math word problem.\n\nPaige raised 7 goldfish and 12 catfish in the pond but stray cats loved eating them. Now she has 15 left.\nHow many fishes disappeared?\n\nThen, provide the final answer as a single integer in the format \"Answer: XXX\" with no extra formatting.",
         "['4']",
         "['4']",
         "math",
         "chal-162",
         "Paige raised 7 goldfish and 12 catfish in the pond but stray cats loved eating them. Now she has 15 left.",
         "How many fishes disappeared?",
         "( ( 7.0 + 12.0 ) - 15.0 )",
         "4",
         "Subtraction",
         "Paige raised 7 goldfish and 12 catfish in the pond but stray cats loved eating them. Now she has 15 left. How many fishes disappeared?",
         "Solve the following math word problem.\n\nPaige raised 7 goldfish and 12 catfish in the pond but stray cats loved eating them. Now she has 15 left.\nHow many fishes disappeared?\n\nRead the question again: Paige raised 7 goldfish and 12 catfish in the pond but stray cats loved eating them. Now she has 15 left.\nHow many fishes disappeared?\n\nThink step-by-step. Then, provide the final answer as a single integer in the format \"Answer: XXX\" with no extra formatting.",
         "Solve the following math word problem.\n\nPaige raised 7 goldfish and 12 catfish in the pond but stray cats loved eating them. Now she has 15 left.\nHow many fishes disappeared?\n\nSummarize the question first. Think step-by-step. Then, provide the final answer as a single integer in the format \"Answer: XXX\" with no extra formatting.",
         "Solve the following math word problem.\n\nPaige raised 7 goldfish and 12 catfish in the pond but stray cats loved eating them. Now she has 15 left.\nHow many fishes disappeared?\n\nOrganize the question into a table first. Think step-by-step. Then, provide the final answer as a single integer in the format \"Answer: XXX\" with no extra formatting.",
         "Solve the following math word problem.\n\nPaige raised 7 goldfish and 12 catfish in the pond but stray cats loved eating them. Now she has 15 left.\nHow many fishes disappeared?\n\nOrganize the question into a graph structure first. Think step-by-step. Then, provide the final answer as a single integer in the format \"Answer: XXX\" with no extra formatting.",
         "Solve the following math word problem.\n\nPaige raised 7 goldfish and 12 catfish in the pond but stray cats loved eating them. Now she has 15 left.\nHow many fishes disappeared?\n\nSummarize the question in bullet points first. Think step-by-step. Then, provide the final answer as a single integer in the format \"Answer: XXX\" with no extra formatting.",
         "Solve the following math word problem.\n\nPaige raised 7 goldfish and 12 catfish in the pond but stray cats loved eating them. Now she has 15 left.\nHow many fishes disappeared?\n\nRead the question again first. Think step-by-step. Then, provide the final answer as a single integer in the format \"Answer: XXX\" with no extra formatting.",
         "Solve the following math word problem.\n\nPaige raised 7 goldfish and 12 catfish in the pond but stray cats loved eating them. Now she has 15 left.\nHow many fishes disappeared?\n\nRead the question again: Paige raised 7 goldfish and 12 catfish in the pond but stray cats loved eating them. Now she has 15 left.\nHow many fishes disappeared?\n\nThen, provide the final answer as a single integer in the format \"Answer: XXX\" with no extra formatting.",
         "Solve the following math word problem.\n\nPaige raised 7 goldfish and 12 catfish in the pond but stray cats loved eating them. Now she has 15 left.\nHow many fishes disappeared?\n\nSummarize the question first. Then, provide the final answer as a single integer in the format \"Answer: XXX\" with no extra formatting.",
         "Solve the following math word problem.\n\nPaige raised 7 goldfish and 12 catfish in the pond but stray cats loved eating them. Now she has 15 left.\nHow many fishes disappeared?\n\nOrganize the question into a table first. Then, provide the final answer as a single integer in the format \"Answer: XXX\" with no extra formatting.",
         "Solve the following math word problem.\n\nPaige raised 7 goldfish and 12 catfish in the pond but stray cats loved eating them. Now she has 15 left.\nHow many fishes disappeared?\n\nOrganize the question into a graph structure first. Then, provide the final answer as a single integer in the format \"Answer: XXX\" with no extra formatting.",
         "Solve the following math word problem.\n\nPaige raised 7 goldfish and 12 catfish in the pond but stray cats loved eating them. Now she has 15 left.\nHow many fishes disappeared?\n\nSummarize the question in bullet points first. Then, provide the final answer as a single integer in the format \"Answer: XXX\" with no extra formatting.",
         "Solve the following math word problem.\n\nPaige raised 7 goldfish and 12 catfish in the pond but stray cats loved eating them. Now she has 15 left.\nHow many fishes disappeared?\n\nRead the question again first. Then, provide the final answer as a single integer in the format \"Answer: XXX\" with no extra formatting."
        ],
        [
         "2",
         "verified",
         "Solve the following math word problem.\n\nMarco and his dad went strawberry picking. Together they collected strawberries that weighed 22 pounds. On the way back Marco ' dad found 30 more pounds of strawberries. Marco's strawberries now weighed 36 pounds.\nHow much did his dad's strawberries weigh now?\n\nThink step-by-step. Then, provide the final answer as a single integer in the format \"Answer: XXX\" with no extra formatting.",
         "Solve the following math word problem.\n\nMarco and his dad went strawberry picking. Together they collected strawberries that weighed 22 pounds. On the way back Marco ' dad found 30 more pounds of strawberries. Marco's strawberries now weighed 36 pounds.\nHow much did his dad's strawberries weigh now?\n\nThen, provide the final answer as a single integer in the format \"Answer: XXX\" with no extra formatting.",
         "['16']",
         "['16']",
         "math",
         "chal-349",
         "Marco and his dad went strawberry picking. Together they collected strawberries that weighed 22 pounds. On the way back Marco ' dad found 30 more pounds of strawberries. Marco's strawberries now weighed 36 pounds.",
         "How much did his dad's strawberries weigh now?",
         "( ( 22.0 - 36.0 ) + 30.0 )",
         "16",
         "Addition",
         "Marco and his dad went strawberry picking. Together they collected strawberries that weighed 22 pounds. On the way back Marco ' dad found 30 more pounds of strawberries. Marco's strawberries now weighed 36 pounds. How much did his dad's strawberries weigh now?",
         "Solve the following math word problem.\n\nMarco and his dad went strawberry picking. Together they collected strawberries that weighed 22 pounds. On the way back Marco ' dad found 30 more pounds of strawberries. Marco's strawberries now weighed 36 pounds.\nHow much did his dad's strawberries weigh now?\n\nRead the question again: Marco and his dad went strawberry picking. Together they collected strawberries that weighed 22 pounds. On the way back Marco ' dad found 30 more pounds of strawberries. Marco's strawberries now weighed 36 pounds.\nHow much did his dad's strawberries weigh now?\n\nThink step-by-step. Then, provide the final answer as a single integer in the format \"Answer: XXX\" with no extra formatting.",
         "Solve the following math word problem.\n\nMarco and his dad went strawberry picking. Together they collected strawberries that weighed 22 pounds. On the way back Marco ' dad found 30 more pounds of strawberries. Marco's strawberries now weighed 36 pounds.\nHow much did his dad's strawberries weigh now?\n\nSummarize the question first. Think step-by-step. Then, provide the final answer as a single integer in the format \"Answer: XXX\" with no extra formatting.",
         "Solve the following math word problem.\n\nMarco and his dad went strawberry picking. Together they collected strawberries that weighed 22 pounds. On the way back Marco ' dad found 30 more pounds of strawberries. Marco's strawberries now weighed 36 pounds.\nHow much did his dad's strawberries weigh now?\n\nOrganize the question into a table first. Think step-by-step. Then, provide the final answer as a single integer in the format \"Answer: XXX\" with no extra formatting.",
         "Solve the following math word problem.\n\nMarco and his dad went strawberry picking. Together they collected strawberries that weighed 22 pounds. On the way back Marco ' dad found 30 more pounds of strawberries. Marco's strawberries now weighed 36 pounds.\nHow much did his dad's strawberries weigh now?\n\nOrganize the question into a graph structure first. Think step-by-step. Then, provide the final answer as a single integer in the format \"Answer: XXX\" with no extra formatting.",
         "Solve the following math word problem.\n\nMarco and his dad went strawberry picking. Together they collected strawberries that weighed 22 pounds. On the way back Marco ' dad found 30 more pounds of strawberries. Marco's strawberries now weighed 36 pounds.\nHow much did his dad's strawberries weigh now?\n\nSummarize the question in bullet points first. Think step-by-step. Then, provide the final answer as a single integer in the format \"Answer: XXX\" with no extra formatting.",
         "Solve the following math word problem.\n\nMarco and his dad went strawberry picking. Together they collected strawberries that weighed 22 pounds. On the way back Marco ' dad found 30 more pounds of strawberries. Marco's strawberries now weighed 36 pounds.\nHow much did his dad's strawberries weigh now?\n\nRead the question again first. Think step-by-step. Then, provide the final answer as a single integer in the format \"Answer: XXX\" with no extra formatting.",
         "Solve the following math word problem.\n\nMarco and his dad went strawberry picking. Together they collected strawberries that weighed 22 pounds. On the way back Marco ' dad found 30 more pounds of strawberries. Marco's strawberries now weighed 36 pounds.\nHow much did his dad's strawberries weigh now?\n\nRead the question again: Marco and his dad went strawberry picking. Together they collected strawberries that weighed 22 pounds. On the way back Marco ' dad found 30 more pounds of strawberries. Marco's strawberries now weighed 36 pounds.\nHow much did his dad's strawberries weigh now?\n\nThen, provide the final answer as a single integer in the format \"Answer: XXX\" with no extra formatting.",
         "Solve the following math word problem.\n\nMarco and his dad went strawberry picking. Together they collected strawberries that weighed 22 pounds. On the way back Marco ' dad found 30 more pounds of strawberries. Marco's strawberries now weighed 36 pounds.\nHow much did his dad's strawberries weigh now?\n\nSummarize the question first. Then, provide the final answer as a single integer in the format \"Answer: XXX\" with no extra formatting.",
         "Solve the following math word problem.\n\nMarco and his dad went strawberry picking. Together they collected strawberries that weighed 22 pounds. On the way back Marco ' dad found 30 more pounds of strawberries. Marco's strawberries now weighed 36 pounds.\nHow much did his dad's strawberries weigh now?\n\nOrganize the question into a table first. Then, provide the final answer as a single integer in the format \"Answer: XXX\" with no extra formatting.",
         "Solve the following math word problem.\n\nMarco and his dad went strawberry picking. Together they collected strawberries that weighed 22 pounds. On the way back Marco ' dad found 30 more pounds of strawberries. Marco's strawberries now weighed 36 pounds.\nHow much did his dad's strawberries weigh now?\n\nOrganize the question into a graph structure first. Then, provide the final answer as a single integer in the format \"Answer: XXX\" with no extra formatting.",
         "Solve the following math word problem.\n\nMarco and his dad went strawberry picking. Together they collected strawberries that weighed 22 pounds. On the way back Marco ' dad found 30 more pounds of strawberries. Marco's strawberries now weighed 36 pounds.\nHow much did his dad's strawberries weigh now?\n\nSummarize the question in bullet points first. Then, provide the final answer as a single integer in the format \"Answer: XXX\" with no extra formatting.",
         "Solve the following math word problem.\n\nMarco and his dad went strawberry picking. Together they collected strawberries that weighed 22 pounds. On the way back Marco ' dad found 30 more pounds of strawberries. Marco's strawberries now weighed 36 pounds.\nHow much did his dad's strawberries weigh now?\n\nRead the question again first. Then, provide the final answer as a single integer in the format \"Answer: XXX\" with no extra formatting."
        ],
        [
         "3",
         "verified",
         "Solve the following math word problem.\n\nDebby bought 200 water bottles and 256 soda bottles when they were on sale. If she drank 312 water bottles and 4 soda bottles a day\nHow many days would the soda bottles last?\n\nThink step-by-step. Then, provide the final answer as a single integer in the format \"Answer: XXX\" with no extra formatting.",
         "Solve the following math word problem.\n\nDebby bought 200 water bottles and 256 soda bottles when they were on sale. If she drank 312 water bottles and 4 soda bottles a day\nHow many days would the soda bottles last?\n\nThen, provide the final answer as a single integer in the format \"Answer: XXX\" with no extra formatting.",
         "['64']",
         "['64']",
         "math",
         "chal-390",
         "Debby bought 200 water bottles and 256 soda bottles when they were on sale. If she drank 312 water bottles and 4 soda bottles a day",
         "How many days would the soda bottles last?",
         "( 256.0 / 4.0 )",
         "64",
         "Common-Division",
         "Debby bought 200 water bottles and 256 soda bottles when they were on sale. If she drank 312 water bottles and 4 soda bottles a day How many days would the soda bottles last?",
         "Solve the following math word problem.\n\nDebby bought 200 water bottles and 256 soda bottles when they were on sale. If she drank 312 water bottles and 4 soda bottles a day\nHow many days would the soda bottles last?\n\nRead the question again: Debby bought 200 water bottles and 256 soda bottles when they were on sale. If she drank 312 water bottles and 4 soda bottles a day\nHow many days would the soda bottles last?\n\nThink step-by-step. Then, provide the final answer as a single integer in the format \"Answer: XXX\" with no extra formatting.",
         "Solve the following math word problem.\n\nDebby bought 200 water bottles and 256 soda bottles when they were on sale. If she drank 312 water bottles and 4 soda bottles a day\nHow many days would the soda bottles last?\n\nSummarize the question first. Think step-by-step. Then, provide the final answer as a single integer in the format \"Answer: XXX\" with no extra formatting.",
         "Solve the following math word problem.\n\nDebby bought 200 water bottles and 256 soda bottles when they were on sale. If she drank 312 water bottles and 4 soda bottles a day\nHow many days would the soda bottles last?\n\nOrganize the question into a table first. Think step-by-step. Then, provide the final answer as a single integer in the format \"Answer: XXX\" with no extra formatting.",
         "Solve the following math word problem.\n\nDebby bought 200 water bottles and 256 soda bottles when they were on sale. If she drank 312 water bottles and 4 soda bottles a day\nHow many days would the soda bottles last?\n\nOrganize the question into a graph structure first. Think step-by-step. Then, provide the final answer as a single integer in the format \"Answer: XXX\" with no extra formatting.",
         "Solve the following math word problem.\n\nDebby bought 200 water bottles and 256 soda bottles when they were on sale. If she drank 312 water bottles and 4 soda bottles a day\nHow many days would the soda bottles last?\n\nSummarize the question in bullet points first. Think step-by-step. Then, provide the final answer as a single integer in the format \"Answer: XXX\" with no extra formatting.",
         "Solve the following math word problem.\n\nDebby bought 200 water bottles and 256 soda bottles when they were on sale. If she drank 312 water bottles and 4 soda bottles a day\nHow many days would the soda bottles last?\n\nRead the question again first. Think step-by-step. Then, provide the final answer as a single integer in the format \"Answer: XXX\" with no extra formatting.",
         "Solve the following math word problem.\n\nDebby bought 200 water bottles and 256 soda bottles when they were on sale. If she drank 312 water bottles and 4 soda bottles a day\nHow many days would the soda bottles last?\n\nRead the question again: Debby bought 200 water bottles and 256 soda bottles when they were on sale. If she drank 312 water bottles and 4 soda bottles a day\nHow many days would the soda bottles last?\n\nThen, provide the final answer as a single integer in the format \"Answer: XXX\" with no extra formatting.",
         "Solve the following math word problem.\n\nDebby bought 200 water bottles and 256 soda bottles when they were on sale. If she drank 312 water bottles and 4 soda bottles a day\nHow many days would the soda bottles last?\n\nSummarize the question first. Then, provide the final answer as a single integer in the format \"Answer: XXX\" with no extra formatting.",
         "Solve the following math word problem.\n\nDebby bought 200 water bottles and 256 soda bottles when they were on sale. If she drank 312 water bottles and 4 soda bottles a day\nHow many days would the soda bottles last?\n\nOrganize the question into a table first. Then, provide the final answer as a single integer in the format \"Answer: XXX\" with no extra formatting.",
         "Solve the following math word problem.\n\nDebby bought 200 water bottles and 256 soda bottles when they were on sale. If she drank 312 water bottles and 4 soda bottles a day\nHow many days would the soda bottles last?\n\nOrganize the question into a graph structure first. Then, provide the final answer as a single integer in the format \"Answer: XXX\" with no extra formatting.",
         "Solve the following math word problem.\n\nDebby bought 200 water bottles and 256 soda bottles when they were on sale. If she drank 312 water bottles and 4 soda bottles a day\nHow many days would the soda bottles last?\n\nSummarize the question in bullet points first. Then, provide the final answer as a single integer in the format \"Answer: XXX\" with no extra formatting.",
         "Solve the following math word problem.\n\nDebby bought 200 water bottles and 256 soda bottles when they were on sale. If she drank 312 water bottles and 4 soda bottles a day\nHow many days would the soda bottles last?\n\nRead the question again first. Then, provide the final answer as a single integer in the format \"Answer: XXX\" with no extra formatting."
        ],
        [
         "4",
         "consensus",
         "Solve the following math word problem.\n\nThere were 106 dollars in Olivia's wallet. After she visited a supermarket and a showroom there were 26 dollars left. If she spent 49 dollars at the showroom\nHow much did she spend at the supermarket?\n\nThink step-by-step. Then, provide the final answer as a single integer in the format \"Answer: XXX\" with no extra formatting.",
         "Solve the following math word problem.\n\nThere were 106 dollars in Olivia's wallet. After she visited a supermarket and a showroom there were 26 dollars left. If she spent 49 dollars at the showroom\nHow much did she spend at the supermarket?\n\nThen, provide the final answer as a single integer in the format \"Answer: XXX\" with no extra formatting.",
         "['31']",
         "['31']",
         "math",
         "chal-781",
         "There were 106 dollars in Olivia's wallet. After she visited a supermarket and a showroom there were 26 dollars left. If she spent 49 dollars at the showroom",
         "How much did she spend at the supermarket?",
         "( ( 106.0 - 26.0 ) - 49.0 )",
         "31",
         "Subtraction",
         "There were 106 dollars in Olivia's wallet. After she visited a supermarket and a showroom there were 26 dollars left. If she spent 49 dollars at the showroom How much did she spend at the supermarket?",
         "Solve the following math word problem.\n\nThere were 106 dollars in Olivia's wallet. After she visited a supermarket and a showroom there were 26 dollars left. If she spent 49 dollars at the showroom\nHow much did she spend at the supermarket?\n\nRead the question again: There were 106 dollars in Olivia's wallet. After she visited a supermarket and a showroom there were 26 dollars left. If she spent 49 dollars at the showroom\nHow much did she spend at the supermarket?\n\nThink step-by-step. Then, provide the final answer as a single integer in the format \"Answer: XXX\" with no extra formatting.",
         "Solve the following math word problem.\n\nThere were 106 dollars in Olivia's wallet. After she visited a supermarket and a showroom there were 26 dollars left. If she spent 49 dollars at the showroom\nHow much did she spend at the supermarket?\n\nSummarize the question first. Think step-by-step. Then, provide the final answer as a single integer in the format \"Answer: XXX\" with no extra formatting.",
         "Solve the following math word problem.\n\nThere were 106 dollars in Olivia's wallet. After she visited a supermarket and a showroom there were 26 dollars left. If she spent 49 dollars at the showroom\nHow much did she spend at the supermarket?\n\nOrganize the question into a table first. Think step-by-step. Then, provide the final answer as a single integer in the format \"Answer: XXX\" with no extra formatting.",
         "Solve the following math word problem.\n\nThere were 106 dollars in Olivia's wallet. After she visited a supermarket and a showroom there were 26 dollars left. If she spent 49 dollars at the showroom\nHow much did she spend at the supermarket?\n\nOrganize the question into a graph structure first. Think step-by-step. Then, provide the final answer as a single integer in the format \"Answer: XXX\" with no extra formatting.",
         "Solve the following math word problem.\n\nThere were 106 dollars in Olivia's wallet. After she visited a supermarket and a showroom there were 26 dollars left. If she spent 49 dollars at the showroom\nHow much did she spend at the supermarket?\n\nSummarize the question in bullet points first. Think step-by-step. Then, provide the final answer as a single integer in the format \"Answer: XXX\" with no extra formatting.",
         "Solve the following math word problem.\n\nThere were 106 dollars in Olivia's wallet. After she visited a supermarket and a showroom there were 26 dollars left. If she spent 49 dollars at the showroom\nHow much did she spend at the supermarket?\n\nRead the question again first. Think step-by-step. Then, provide the final answer as a single integer in the format \"Answer: XXX\" with no extra formatting.",
         "Solve the following math word problem.\n\nThere were 106 dollars in Olivia's wallet. After she visited a supermarket and a showroom there were 26 dollars left. If she spent 49 dollars at the showroom\nHow much did she spend at the supermarket?\n\nRead the question again: There were 106 dollars in Olivia's wallet. After she visited a supermarket and a showroom there were 26 dollars left. If she spent 49 dollars at the showroom\nHow much did she spend at the supermarket?\n\nThen, provide the final answer as a single integer in the format \"Answer: XXX\" with no extra formatting.",
         "Solve the following math word problem.\n\nThere were 106 dollars in Olivia's wallet. After she visited a supermarket and a showroom there were 26 dollars left. If she spent 49 dollars at the showroom\nHow much did she spend at the supermarket?\n\nSummarize the question first. Then, provide the final answer as a single integer in the format \"Answer: XXX\" with no extra formatting.",
         "Solve the following math word problem.\n\nThere were 106 dollars in Olivia's wallet. After she visited a supermarket and a showroom there were 26 dollars left. If she spent 49 dollars at the showroom\nHow much did she spend at the supermarket?\n\nOrganize the question into a table first. Then, provide the final answer as a single integer in the format \"Answer: XXX\" with no extra formatting.",
         "Solve the following math word problem.\n\nThere were 106 dollars in Olivia's wallet. After she visited a supermarket and a showroom there were 26 dollars left. If she spent 49 dollars at the showroom\nHow much did she spend at the supermarket?\n\nOrganize the question into a graph structure first. Then, provide the final answer as a single integer in the format \"Answer: XXX\" with no extra formatting.",
         "Solve the following math word problem.\n\nThere were 106 dollars in Olivia's wallet. After she visited a supermarket and a showroom there were 26 dollars left. If she spent 49 dollars at the showroom\nHow much did she spend at the supermarket?\n\nSummarize the question in bullet points first. Then, provide the final answer as a single integer in the format \"Answer: XXX\" with no extra formatting.",
         "Solve the following math word problem.\n\nThere were 106 dollars in Olivia's wallet. After she visited a supermarket and a showroom there were 26 dollars left. If she spent 49 dollars at the showroom\nHow much did she spend at the supermarket?\n\nRead the question again first. Then, provide the final answer as a single integer in the format \"Answer: XXX\" with no extra formatting."
        ]
       ],
       "shape": {
        "columns": 25,
        "rows": 5
       }
      },
      "text/html": [
       "<div>\n",
       "<style scoped>\n",
       "    .dataframe tbody tr th:only-of-type {\n",
       "        vertical-align: middle;\n",
       "    }\n",
       "\n",
       "    .dataframe tbody tr th {\n",
       "        vertical-align: top;\n",
       "    }\n",
       "\n",
       "    .dataframe thead th {\n",
       "        text-align: right;\n",
       "    }\n",
       "</style>\n",
       "<table border=\"1\" class=\"dataframe\">\n",
       "  <thead>\n",
       "    <tr style=\"text-align: right;\">\n",
       "      <th></th>\n",
       "      <th>cleaning_status</th>\n",
       "      <th>platinum_prompt</th>\n",
       "      <th>platinum_prompt_no_cot</th>\n",
       "      <th>platinum_target</th>\n",
       "      <th>original_target</th>\n",
       "      <th>platinum_parsing_strategy</th>\n",
       "      <th>ID</th>\n",
       "      <th>Body</th>\n",
       "      <th>Question</th>\n",
       "      <th>Equation</th>\n",
       "      <th>...</th>\n",
       "      <th>table</th>\n",
       "      <th>graph</th>\n",
       "      <th>bullet_point</th>\n",
       "      <th>sRE2</th>\n",
       "      <th>RE2_no_cot</th>\n",
       "      <th>sum_no_cot</th>\n",
       "      <th>table_no_cot</th>\n",
       "      <th>graph_no_cot</th>\n",
       "      <th>bullet_point_no_cot</th>\n",
       "      <th>sRE2_no_cot</th>\n",
       "    </tr>\n",
       "  </thead>\n",
       "  <tbody>\n",
       "    <tr>\n",
       "      <th>0</th>\n",
       "      <td>consensus</td>\n",
       "      <td>Solve the following math word problem.\\n\\nWint...</td>\n",
       "      <td>Solve the following math word problem.\\n\\nWint...</td>\n",
       "      <td>[27]</td>\n",
       "      <td>[27]</td>\n",
       "      <td>math</td>\n",
       "      <td>chal-736</td>\n",
       "      <td>Winter is almost here and most animals are mig...</td>\n",
       "      <td>How many more bird families flew away to afric...</td>\n",
       "      <td>( 62.0 - 35.0 )</td>\n",
       "      <td>...</td>\n",
       "      <td>Solve the following math word problem.\\n\\nWint...</td>\n",
       "      <td>Solve the following math word problem.\\n\\nWint...</td>\n",
       "      <td>Solve the following math word problem.\\n\\nWint...</td>\n",
       "      <td>Solve the following math word problem.\\n\\nWint...</td>\n",
       "      <td>Solve the following math word problem.\\n\\nWint...</td>\n",
       "      <td>Solve the following math word problem.\\n\\nWint...</td>\n",
       "      <td>Solve the following math word problem.\\n\\nWint...</td>\n",
       "      <td>Solve the following math word problem.\\n\\nWint...</td>\n",
       "      <td>Solve the following math word problem.\\n\\nWint...</td>\n",
       "      <td>Solve the following math word problem.\\n\\nWint...</td>\n",
       "    </tr>\n",
       "    <tr>\n",
       "      <th>1</th>\n",
       "      <td>consensus</td>\n",
       "      <td>Solve the following math word problem.\\n\\nPaig...</td>\n",
       "      <td>Solve the following math word problem.\\n\\nPaig...</td>\n",
       "      <td>[4]</td>\n",
       "      <td>[4]</td>\n",
       "      <td>math</td>\n",
       "      <td>chal-162</td>\n",
       "      <td>Paige raised 7 goldfish and 12 catfish in the ...</td>\n",
       "      <td>How many fishes disappeared?</td>\n",
       "      <td>( ( 7.0 + 12.0 ) - 15.0 )</td>\n",
       "      <td>...</td>\n",
       "      <td>Solve the following math word problem.\\n\\nPaig...</td>\n",
       "      <td>Solve the following math word problem.\\n\\nPaig...</td>\n",
       "      <td>Solve the following math word problem.\\n\\nPaig...</td>\n",
       "      <td>Solve the following math word problem.\\n\\nPaig...</td>\n",
       "      <td>Solve the following math word problem.\\n\\nPaig...</td>\n",
       "      <td>Solve the following math word problem.\\n\\nPaig...</td>\n",
       "      <td>Solve the following math word problem.\\n\\nPaig...</td>\n",
       "      <td>Solve the following math word problem.\\n\\nPaig...</td>\n",
       "      <td>Solve the following math word problem.\\n\\nPaig...</td>\n",
       "      <td>Solve the following math word problem.\\n\\nPaig...</td>\n",
       "    </tr>\n",
       "    <tr>\n",
       "      <th>2</th>\n",
       "      <td>verified</td>\n",
       "      <td>Solve the following math word problem.\\n\\nMarc...</td>\n",
       "      <td>Solve the following math word problem.\\n\\nMarc...</td>\n",
       "      <td>[16]</td>\n",
       "      <td>[16]</td>\n",
       "      <td>math</td>\n",
       "      <td>chal-349</td>\n",
       "      <td>Marco and his dad went strawberry picking. Tog...</td>\n",
       "      <td>How much did his dad's strawberries weigh now?</td>\n",
       "      <td>( ( 22.0 - 36.0 ) + 30.0 )</td>\n",
       "      <td>...</td>\n",
       "      <td>Solve the following math word problem.\\n\\nMarc...</td>\n",
       "      <td>Solve the following math word problem.\\n\\nMarc...</td>\n",
       "      <td>Solve the following math word problem.\\n\\nMarc...</td>\n",
       "      <td>Solve the following math word problem.\\n\\nMarc...</td>\n",
       "      <td>Solve the following math word problem.\\n\\nMarc...</td>\n",
       "      <td>Solve the following math word problem.\\n\\nMarc...</td>\n",
       "      <td>Solve the following math word problem.\\n\\nMarc...</td>\n",
       "      <td>Solve the following math word problem.\\n\\nMarc...</td>\n",
       "      <td>Solve the following math word problem.\\n\\nMarc...</td>\n",
       "      <td>Solve the following math word problem.\\n\\nMarc...</td>\n",
       "    </tr>\n",
       "    <tr>\n",
       "      <th>3</th>\n",
       "      <td>verified</td>\n",
       "      <td>Solve the following math word problem.\\n\\nDebb...</td>\n",
       "      <td>Solve the following math word problem.\\n\\nDebb...</td>\n",
       "      <td>[64]</td>\n",
       "      <td>[64]</td>\n",
       "      <td>math</td>\n",
       "      <td>chal-390</td>\n",
       "      <td>Debby bought 200 water bottles and 256 soda bo...</td>\n",
       "      <td>How many days would the soda bottles last?</td>\n",
       "      <td>( 256.0 / 4.0 )</td>\n",
       "      <td>...</td>\n",
       "      <td>Solve the following math word problem.\\n\\nDebb...</td>\n",
       "      <td>Solve the following math word problem.\\n\\nDebb...</td>\n",
       "      <td>Solve the following math word problem.\\n\\nDebb...</td>\n",
       "      <td>Solve the following math word problem.\\n\\nDebb...</td>\n",
       "      <td>Solve the following math word problem.\\n\\nDebb...</td>\n",
       "      <td>Solve the following math word problem.\\n\\nDebb...</td>\n",
       "      <td>Solve the following math word problem.\\n\\nDebb...</td>\n",
       "      <td>Solve the following math word problem.\\n\\nDebb...</td>\n",
       "      <td>Solve the following math word problem.\\n\\nDebb...</td>\n",
       "      <td>Solve the following math word problem.\\n\\nDebb...</td>\n",
       "    </tr>\n",
       "    <tr>\n",
       "      <th>4</th>\n",
       "      <td>consensus</td>\n",
       "      <td>Solve the following math word problem.\\n\\nTher...</td>\n",
       "      <td>Solve the following math word problem.\\n\\nTher...</td>\n",
       "      <td>[31]</td>\n",
       "      <td>[31]</td>\n",
       "      <td>math</td>\n",
       "      <td>chal-781</td>\n",
       "      <td>There were 106 dollars in Olivia's wallet. Aft...</td>\n",
       "      <td>How much did she spend at the supermarket?</td>\n",
       "      <td>( ( 106.0 - 26.0 ) - 49.0 )</td>\n",
       "      <td>...</td>\n",
       "      <td>Solve the following math word problem.\\n\\nTher...</td>\n",
       "      <td>Solve the following math word problem.\\n\\nTher...</td>\n",
       "      <td>Solve the following math word problem.\\n\\nTher...</td>\n",
       "      <td>Solve the following math word problem.\\n\\nTher...</td>\n",
       "      <td>Solve the following math word problem.\\n\\nTher...</td>\n",
       "      <td>Solve the following math word problem.\\n\\nTher...</td>\n",
       "      <td>Solve the following math word problem.\\n\\nTher...</td>\n",
       "      <td>Solve the following math word problem.\\n\\nTher...</td>\n",
       "      <td>Solve the following math word problem.\\n\\nTher...</td>\n",
       "      <td>Solve the following math word problem.\\n\\nTher...</td>\n",
       "    </tr>\n",
       "  </tbody>\n",
       "</table>\n",
       "<p>5 rows × 25 columns</p>\n",
       "</div>"
      ],
      "text/plain": [
       "  cleaning_status                                    platinum_prompt  \\\n",
       "0       consensus  Solve the following math word problem.\\n\\nWint...   \n",
       "1       consensus  Solve the following math word problem.\\n\\nPaig...   \n",
       "2        verified  Solve the following math word problem.\\n\\nMarc...   \n",
       "3        verified  Solve the following math word problem.\\n\\nDebb...   \n",
       "4       consensus  Solve the following math word problem.\\n\\nTher...   \n",
       "\n",
       "                              platinum_prompt_no_cot platinum_target  \\\n",
       "0  Solve the following math word problem.\\n\\nWint...            [27]   \n",
       "1  Solve the following math word problem.\\n\\nPaig...             [4]   \n",
       "2  Solve the following math word problem.\\n\\nMarc...            [16]   \n",
       "3  Solve the following math word problem.\\n\\nDebb...            [64]   \n",
       "4  Solve the following math word problem.\\n\\nTher...            [31]   \n",
       "\n",
       "  original_target platinum_parsing_strategy        ID  \\\n",
       "0            [27]                      math  chal-736   \n",
       "1             [4]                      math  chal-162   \n",
       "2            [16]                      math  chal-349   \n",
       "3            [64]                      math  chal-390   \n",
       "4            [31]                      math  chal-781   \n",
       "\n",
       "                                                Body  \\\n",
       "0  Winter is almost here and most animals are mig...   \n",
       "1  Paige raised 7 goldfish and 12 catfish in the ...   \n",
       "2  Marco and his dad went strawberry picking. Tog...   \n",
       "3  Debby bought 200 water bottles and 256 soda bo...   \n",
       "4  There were 106 dollars in Olivia's wallet. Aft...   \n",
       "\n",
       "                                            Question  \\\n",
       "0  How many more bird families flew away to afric...   \n",
       "1                       How many fishes disappeared?   \n",
       "2     How much did his dad's strawberries weigh now?   \n",
       "3         How many days would the soda bottles last?   \n",
       "4         How much did she spend at the supermarket?   \n",
       "\n",
       "                      Equation  ...  \\\n",
       "0              ( 62.0 - 35.0 )  ...   \n",
       "1    ( ( 7.0 + 12.0 ) - 15.0 )  ...   \n",
       "2   ( ( 22.0 - 36.0 ) + 30.0 )  ...   \n",
       "3              ( 256.0 / 4.0 )  ...   \n",
       "4  ( ( 106.0 - 26.0 ) - 49.0 )  ...   \n",
       "\n",
       "                                               table  \\\n",
       "0  Solve the following math word problem.\\n\\nWint...   \n",
       "1  Solve the following math word problem.\\n\\nPaig...   \n",
       "2  Solve the following math word problem.\\n\\nMarc...   \n",
       "3  Solve the following math word problem.\\n\\nDebb...   \n",
       "4  Solve the following math word problem.\\n\\nTher...   \n",
       "\n",
       "                                               graph  \\\n",
       "0  Solve the following math word problem.\\n\\nWint...   \n",
       "1  Solve the following math word problem.\\n\\nPaig...   \n",
       "2  Solve the following math word problem.\\n\\nMarc...   \n",
       "3  Solve the following math word problem.\\n\\nDebb...   \n",
       "4  Solve the following math word problem.\\n\\nTher...   \n",
       "\n",
       "                                        bullet_point  \\\n",
       "0  Solve the following math word problem.\\n\\nWint...   \n",
       "1  Solve the following math word problem.\\n\\nPaig...   \n",
       "2  Solve the following math word problem.\\n\\nMarc...   \n",
       "3  Solve the following math word problem.\\n\\nDebb...   \n",
       "4  Solve the following math word problem.\\n\\nTher...   \n",
       "\n",
       "                                                sRE2  \\\n",
       "0  Solve the following math word problem.\\n\\nWint...   \n",
       "1  Solve the following math word problem.\\n\\nPaig...   \n",
       "2  Solve the following math word problem.\\n\\nMarc...   \n",
       "3  Solve the following math word problem.\\n\\nDebb...   \n",
       "4  Solve the following math word problem.\\n\\nTher...   \n",
       "\n",
       "                                          RE2_no_cot  \\\n",
       "0  Solve the following math word problem.\\n\\nWint...   \n",
       "1  Solve the following math word problem.\\n\\nPaig...   \n",
       "2  Solve the following math word problem.\\n\\nMarc...   \n",
       "3  Solve the following math word problem.\\n\\nDebb...   \n",
       "4  Solve the following math word problem.\\n\\nTher...   \n",
       "\n",
       "                                          sum_no_cot  \\\n",
       "0  Solve the following math word problem.\\n\\nWint...   \n",
       "1  Solve the following math word problem.\\n\\nPaig...   \n",
       "2  Solve the following math word problem.\\n\\nMarc...   \n",
       "3  Solve the following math word problem.\\n\\nDebb...   \n",
       "4  Solve the following math word problem.\\n\\nTher...   \n",
       "\n",
       "                                        table_no_cot  \\\n",
       "0  Solve the following math word problem.\\n\\nWint...   \n",
       "1  Solve the following math word problem.\\n\\nPaig...   \n",
       "2  Solve the following math word problem.\\n\\nMarc...   \n",
       "3  Solve the following math word problem.\\n\\nDebb...   \n",
       "4  Solve the following math word problem.\\n\\nTher...   \n",
       "\n",
       "                                        graph_no_cot  \\\n",
       "0  Solve the following math word problem.\\n\\nWint...   \n",
       "1  Solve the following math word problem.\\n\\nPaig...   \n",
       "2  Solve the following math word problem.\\n\\nMarc...   \n",
       "3  Solve the following math word problem.\\n\\nDebb...   \n",
       "4  Solve the following math word problem.\\n\\nTher...   \n",
       "\n",
       "                                 bullet_point_no_cot  \\\n",
       "0  Solve the following math word problem.\\n\\nWint...   \n",
       "1  Solve the following math word problem.\\n\\nPaig...   \n",
       "2  Solve the following math word problem.\\n\\nMarc...   \n",
       "3  Solve the following math word problem.\\n\\nDebb...   \n",
       "4  Solve the following math word problem.\\n\\nTher...   \n",
       "\n",
       "                                         sRE2_no_cot  \n",
       "0  Solve the following math word problem.\\n\\nWint...  \n",
       "1  Solve the following math word problem.\\n\\nPaig...  \n",
       "2  Solve the following math word problem.\\n\\nMarc...  \n",
       "3  Solve the following math word problem.\\n\\nDebb...  \n",
       "4  Solve the following math word problem.\\n\\nTher...  \n",
       "\n",
       "[5 rows x 25 columns]"
      ]
     },
     "execution_count": 13,
     "metadata": {},
     "output_type": "execute_result"
    }
   ],
   "source": [
    "df.head()"
   ]
  },
  {
   "cell_type": "code",
   "execution_count": null,
   "metadata": {},
   "outputs": [],
   "source": []
  }
 ],
 "metadata": {
  "kernelspec": {
   "display_name": ".venv",
   "language": "python",
   "name": "python3"
  },
  "language_info": {
   "codemirror_mode": {
    "name": "ipython",
    "version": 3
   },
   "file_extension": ".py",
   "mimetype": "text/x-python",
   "name": "python",
   "nbconvert_exporter": "python",
   "pygments_lexer": "ipython3",
   "version": "3.12.0"
  }
 },
 "nbformat": 4,
 "nbformat_minor": 2
}
